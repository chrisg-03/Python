{
 "cells": [
  {
   "cell_type": "code",
   "execution_count": 8,
   "metadata": {},
   "outputs": [],
   "source": [
    "import pandas as pd\n",
    "import numpy as np\n",
    "import matplotlib.pyplot as plt\n",
    "import seaborn as sns\n",
    "import nltk"
   ]
  },
  {
   "cell_type": "code",
   "execution_count": 9,
   "metadata": {},
   "outputs": [
    {
     "name": "stdout",
     "output_type": "stream",
     "text": [
      "        Unnamed: 0                                        review_text  \\\n",
      "0                0  This app is a big step in right direction - gr...   \n",
      "1                1  This is what I have been looking for. Now I ca...   \n",
      "2                2  Its a great way of shopping online. But please...   \n",
      "3                3                       Thanks lazada for this app!!   \n",
      "4                4                                        Good app ;)   \n",
      "...            ...                                                ...   \n",
      "775318      775318                                               nice   \n",
      "775319      775319                                               Nice   \n",
      "775320      775320                                 thanks super sulit   \n",
      "775321      775321  1 of the best online shopping app because of t...   \n",
      "775322      775322                                               Good   \n",
      "\n",
      "        review_rating              author_id    author_name  \\\n",
      "0                   5  109329*********902682  A Google user   \n",
      "1                   5  109886*********190000  A Google user   \n",
      "2                   1  114358*********899063  A Google user   \n",
      "3                   5  108006*********600292  A Google user   \n",
      "4                   5  110676*********237626  A Google user   \n",
      "...               ...                    ...            ...   \n",
      "775318              5  105611*********908291  A Google user   \n",
      "775319              5  108460*********801893  A Google user   \n",
      "775320              5  109168*********063517  A Google user   \n",
      "775321              5  112557*********329849  A Google user   \n",
      "775322              5  104025*********727802  A Google user   \n",
      "\n",
      "       author_app_version       review_datetime_utc  review_likes  \n",
      "0                     1.0  2013-06-09T08:34:37.000Z             2  \n",
      "1                     1.0  2013-06-09T09:29:25.000Z             0  \n",
      "2                     1.0  2013-06-09T10:19:39.000Z             0  \n",
      "3                     1.0  2013-06-10T02:24:14.000Z             0  \n",
      "4                     1.0  2013-06-10T02:35:53.000Z             0  \n",
      "...                   ...                       ...           ...  \n",
      "775318                NaN  2023-11-13T14:35:46.000Z             0  \n",
      "775319             7.37.0  2023-11-13T14:39:25.000Z             0  \n",
      "775320                NaN  2023-11-13T14:41:47.000Z             0  \n",
      "775321             7.37.0  2023-11-13T14:44:35.000Z             0  \n",
      "775322                NaN  2023-11-13T14:45:41.000Z             0  \n",
      "\n",
      "[775323 rows x 8 columns]\n"
     ]
    }
   ],
   "source": [
    "# Read in data for sentiment analysis\n",
    "path = r'C:/Users/Chris/OneDrive/Desktop/Data/Lazada Reviews' \n",
    "df = pd.read_csv(path + '//Lazada_Reviews.csv')\n",
    "print(df)"
   ]
  },
  {
   "cell_type": "code",
   "execution_count": 10,
   "metadata": {},
   "outputs": [
    {
     "name": "stdout",
     "output_type": "stream",
     "text": [
      "Before change Unnamed: 0              int64\n",
      "review_text            object\n",
      "review_rating           int64\n",
      "author_id              object\n",
      "author_name            object\n",
      "author_app_version     object\n",
      "review_datetime_utc    object\n",
      "review_likes            int64\n",
      "dtype: object\n",
      "\n",
      "After change Unnamed: 0                      int64\n",
      "review_text                    object\n",
      "review_rating                   int64\n",
      "author_id                      object\n",
      "author_name                    object\n",
      "author_app_version             object\n",
      "review_datetime_utc    datetime64[ns]\n",
      "review_likes                    int64\n",
      "dtype: object\n"
     ]
    }
   ],
   "source": [
    "# Fix data types\n",
    "print('Before change', df.dtypes)\n",
    "df['review_datetime_utc'] = pd.to_datetime(df['review_datetime_utc'], format = '%Y-%m-%dT%H:%M:%S.000Z')\n",
    "print('\\nAfter change', df.dtypes)"
   ]
  },
  {
   "cell_type": "code",
   "execution_count": 11,
   "metadata": {},
   "outputs": [
    {
     "data": {
      "text/html": [
       "<div>\n",
       "<style scoped>\n",
       "    .dataframe tbody tr th:only-of-type {\n",
       "        vertical-align: middle;\n",
       "    }\n",
       "\n",
       "    .dataframe tbody tr th {\n",
       "        vertical-align: top;\n",
       "    }\n",
       "\n",
       "    .dataframe thead th {\n",
       "        text-align: right;\n",
       "    }\n",
       "</style>\n",
       "<table border=\"1\" class=\"dataframe\">\n",
       "  <thead>\n",
       "    <tr style=\"text-align: right;\">\n",
       "      <th></th>\n",
       "      <th>id</th>\n",
       "      <th>review_text</th>\n",
       "      <th>review_rating</th>\n",
       "      <th>author_id</th>\n",
       "      <th>author_name</th>\n",
       "      <th>author_app_version</th>\n",
       "      <th>review_datetime</th>\n",
       "      <th>review_likes</th>\n",
       "    </tr>\n",
       "  </thead>\n",
       "  <tbody>\n",
       "    <tr>\n",
       "      <th>0</th>\n",
       "      <td>0</td>\n",
       "      <td>This app is a big step in right direction - gr...</td>\n",
       "      <td>5</td>\n",
       "      <td>109329*********902682</td>\n",
       "      <td>A Google user</td>\n",
       "      <td>1.0</td>\n",
       "      <td>2013-06-09 08:34:37</td>\n",
       "      <td>2</td>\n",
       "    </tr>\n",
       "    <tr>\n",
       "      <th>1</th>\n",
       "      <td>1</td>\n",
       "      <td>This is what I have been looking for. Now I ca...</td>\n",
       "      <td>5</td>\n",
       "      <td>109886*********190000</td>\n",
       "      <td>A Google user</td>\n",
       "      <td>1.0</td>\n",
       "      <td>2013-06-09 09:29:25</td>\n",
       "      <td>0</td>\n",
       "    </tr>\n",
       "    <tr>\n",
       "      <th>2</th>\n",
       "      <td>2</td>\n",
       "      <td>Its a great way of shopping online. But please...</td>\n",
       "      <td>1</td>\n",
       "      <td>114358*********899063</td>\n",
       "      <td>A Google user</td>\n",
       "      <td>1.0</td>\n",
       "      <td>2013-06-09 10:19:39</td>\n",
       "      <td>0</td>\n",
       "    </tr>\n",
       "    <tr>\n",
       "      <th>3</th>\n",
       "      <td>3</td>\n",
       "      <td>Thanks lazada for this app!!</td>\n",
       "      <td>5</td>\n",
       "      <td>108006*********600292</td>\n",
       "      <td>A Google user</td>\n",
       "      <td>1.0</td>\n",
       "      <td>2013-06-10 02:24:14</td>\n",
       "      <td>0</td>\n",
       "    </tr>\n",
       "    <tr>\n",
       "      <th>4</th>\n",
       "      <td>4</td>\n",
       "      <td>Good app ;)</td>\n",
       "      <td>5</td>\n",
       "      <td>110676*********237626</td>\n",
       "      <td>A Google user</td>\n",
       "      <td>1.0</td>\n",
       "      <td>2013-06-10 02:35:53</td>\n",
       "      <td>0</td>\n",
       "    </tr>\n",
       "  </tbody>\n",
       "</table>\n",
       "</div>"
      ],
      "text/plain": [
       "   id                                        review_text  review_rating  \\\n",
       "0   0  This app is a big step in right direction - gr...              5   \n",
       "1   1  This is what I have been looking for. Now I ca...              5   \n",
       "2   2  Its a great way of shopping online. But please...              1   \n",
       "3   3                       Thanks lazada for this app!!              5   \n",
       "4   4                                        Good app ;)              5   \n",
       "\n",
       "               author_id    author_name author_app_version  \\\n",
       "0  109329*********902682  A Google user                1.0   \n",
       "1  109886*********190000  A Google user                1.0   \n",
       "2  114358*********899063  A Google user                1.0   \n",
       "3  108006*********600292  A Google user                1.0   \n",
       "4  110676*********237626  A Google user                1.0   \n",
       "\n",
       "      review_datetime  review_likes  \n",
       "0 2013-06-09 08:34:37             2  \n",
       "1 2013-06-09 09:29:25             0  \n",
       "2 2013-06-09 10:19:39             0  \n",
       "3 2013-06-10 02:24:14             0  \n",
       "4 2013-06-10 02:35:53             0  "
      ]
     },
     "execution_count": 11,
     "metadata": {},
     "output_type": "execute_result"
    }
   ],
   "source": [
    "# Rename columns for readability\n",
    "df = df.rename(columns = {'Unnamed: 0' : 'id', 'review_datetime_utc' : 'review_datetime'})\n",
    "df.head(5)"
   ]
  },
  {
   "cell_type": "code",
   "execution_count": 12,
   "metadata": {},
   "outputs": [
    {
     "data": {
      "text/plain": [
       "(775323, 7)"
      ]
     },
     "execution_count": 12,
     "metadata": {},
     "output_type": "execute_result"
    }
   ],
   "source": [
    "# Drop unnecessary columns for the sentiment analysis\n",
    "df = df.drop(columns = ['author_id'])\n",
    "df.shape"
   ]
  },
  {
   "cell_type": "code",
   "execution_count": 32,
   "metadata": {},
   "outputs": [
    {
     "data": {
      "image/png": "[encoded data removed]",
      "text/plain": [
       "<Figure size 800x500 with 1 Axes>"
      ]
     },
     "metadata": {},
     "output_type": "display_data"
    }
   ],
   "source": [
    "# Simple EDA to understand our general sentiment by ratings\n",
    "ax = df['review_rating'].value_counts().sort_index() \\\n",
    "    .plot(kind = 'bar',\n",
    "          title = 'Count of Reviews by Ratings',\n",
    "          figsize = (8,5))\n",
    "ax.set_xlabel('Ratings')\n",
    "ax.set_ylabel('Count')\n",
    "plt.show() # Dataset strongly skewed towards positive reviews"
   ]
  }
 ],
 "metadata": {
  "kernelspec": {
   "display_name": "Python 3",
   "language": "python",
   "name": "python3"
  },
  "language_info": {
   "codemirror_mode": {
    "name": "ipython",
    "version": 3
   },
   "file_extension": ".py",
   "mimetype": "text/x-python",
   "name": "python",
   "nbconvert_exporter": "python",
   "pygments_lexer": "ipython3",
   "version": "3.11.4"
  }
 },
 "nbformat": 4,
 "nbformat_minor": 2
}
