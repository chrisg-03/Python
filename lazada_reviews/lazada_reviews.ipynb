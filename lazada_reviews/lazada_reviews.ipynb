{
 "cells": [
  {
   "cell_type": "code",
   "execution_count": 1,
   "metadata": {},
   "outputs": [],
   "source": [
    "import pandas as pd\n",
    "import numpy as np\n",
    "import matplotlib.pyplot as plt\n",
    "import seaborn as sns\n",
    "import nltk"
   ]
  },
  {
   "cell_type": "code",
   "execution_count": 2,
   "metadata": {},
   "outputs": [
    {
     "name": "stdout",
     "output_type": "stream",
     "text": [
      "        Unnamed: 0                                        review_text  \\\n",
      "0                0  This app is a big step in right direction - gr...   \n",
      "1                1  This is what I have been looking for. Now I ca...   \n",
      "2                2  Its a great way of shopping online. But please...   \n",
      "3                3                       Thanks lazada for this app!!   \n",
      "4                4                                        Good app ;)   \n",
      "...            ...                                                ...   \n",
      "775318      775318                                               nice   \n",
      "775319      775319                                               Nice   \n",
      "775320      775320                                 thanks super sulit   \n",
      "775321      775321  1 of the best online shopping app because of t...   \n",
      "775322      775322                                               Good   \n",
      "\n",
      "        review_rating              author_id    author_name  \\\n",
      "0                   5  109329*********902682  A Google user   \n",
      "1                   5  109886*********190000  A Google user   \n",
      "2                   1  114358*********899063  A Google user   \n",
      "3                   5  108006*********600292  A Google user   \n",
      "4                   5  110676*********237626  A Google user   \n",
      "...               ...                    ...            ...   \n",
      "775318              5  105611*********908291  A Google user   \n",
      "775319              5  108460*********801893  A Google user   \n",
      "775320              5  109168*********063517  A Google user   \n",
      "775321              5  112557*********329849  A Google user   \n",
      "775322              5  104025*********727802  A Google user   \n",
      "\n",
      "       author_app_version       review_datetime_utc  review_likes  \n",
      "0                     1.0  2013-06-09T08:34:37.000Z             2  \n",
      "1                     1.0  2013-06-09T09:29:25.000Z             0  \n",
      "2                     1.0  2013-06-09T10:19:39.000Z             0  \n",
      "3                     1.0  2013-06-10T02:24:14.000Z             0  \n",
      "4                     1.0  2013-06-10T02:35:53.000Z             0  \n",
      "...                   ...                       ...           ...  \n",
      "775318                NaN  2023-11-13T14:35:46.000Z             0  \n",
      "775319             7.37.0  2023-11-13T14:39:25.000Z             0  \n",
      "775320                NaN  2023-11-13T14:41:47.000Z             0  \n",
      "775321             7.37.0  2023-11-13T14:44:35.000Z             0  \n",
      "775322                NaN  2023-11-13T14:45:41.000Z             0  \n",
      "\n",
      "[775323 rows x 8 columns]\n"
     ]
    }
   ],
   "source": [
    "# Read in data for sentiment analysis\n",
    "path = r'C:/Users/Chris/OneDrive/Desktop/Data/Lazada Reviews' \n",
    "df = pd.read_csv(path + '//Lazada_Reviews.csv')\n",
    "print(df)"
   ]
  },
  {
   "cell_type": "code",
   "execution_count": 3,
   "metadata": {},
   "outputs": [
    {
     "name": "stdout",
     "output_type": "stream",
     "text": [
      "Before change Unnamed: 0              int64\n",
      "review_text            object\n",
      "review_rating           int64\n",
      "author_id              object\n",
      "author_name            object\n",
      "author_app_version     object\n",
      "review_datetime_utc    object\n",
      "review_likes            int64\n",
      "dtype: object\n",
      "\n",
      "After change Unnamed: 0                      int64\n",
      "review_text                    object\n",
      "review_rating                   int64\n",
      "author_id                      object\n",
      "author_name                    object\n",
      "author_app_version             object\n",
      "review_datetime_utc    datetime64[ns]\n",
      "review_likes                    int64\n",
      "dtype: object\n"
     ]
    }
   ],
   "source": [
    "# Fix data types\n",
    "print('Before change', df.dtypes)\n",
    "df['review_datetime_utc'] = pd.to_datetime(df['review_datetime_utc'], format = '%Y-%m-%dT%H:%M:%S.000Z')\n",
    "print('\\nAfter change', df.dtypes)"
   ]
  },
  {
   "cell_type": "code",
   "execution_count": 4,
   "metadata": {},
   "outputs": [
    {
     "data": {
      "text/html": [
       "<div>\n",
       "<style scoped>\n",
       "    .dataframe tbody tr th:only-of-type {\n",
       "        vertical-align: middle;\n",
       "    }\n",
       "\n",
       "    .dataframe tbody tr th {\n",
       "        vertical-align: top;\n",
       "    }\n",
       "\n",
       "    .dataframe thead th {\n",
       "        text-align: right;\n",
       "    }\n",
       "</style>\n",
       "<table border=\"1\" class=\"dataframe\">\n",
       "  <thead>\n",
       "    <tr style=\"text-align: right;\">\n",
       "      <th></th>\n",
       "      <th>id</th>\n",
       "      <th>review_text</th>\n",
       "      <th>review_rating</th>\n",
       "      <th>author_id</th>\n",
       "      <th>author_name</th>\n",
       "      <th>author_app_version</th>\n",
       "      <th>review_datetime</th>\n",
       "      <th>review_likes</th>\n",
       "    </tr>\n",
       "  </thead>\n",
       "  <tbody>\n",
       "    <tr>\n",
       "      <th>0</th>\n",
       "      <td>0</td>\n",
       "      <td>This app is a big step in right direction - gr...</td>\n",
       "      <td>5</td>\n",
       "      <td>109329*********902682</td>\n",
       "      <td>A Google user</td>\n",
       "      <td>1.0</td>\n",
       "      <td>2013-06-09 08:34:37</td>\n",
       "      <td>2</td>\n",
       "    </tr>\n",
       "    <tr>\n",
       "      <th>1</th>\n",
       "      <td>1</td>\n",
       "      <td>This is what I have been looking for. Now I ca...</td>\n",
       "      <td>5</td>\n",
       "      <td>109886*********190000</td>\n",
       "      <td>A Google user</td>\n",
       "      <td>1.0</td>\n",
       "      <td>2013-06-09 09:29:25</td>\n",
       "      <td>0</td>\n",
       "    </tr>\n",
       "    <tr>\n",
       "      <th>2</th>\n",
       "      <td>2</td>\n",
       "      <td>Its a great way of shopping online. But please...</td>\n",
       "      <td>1</td>\n",
       "      <td>114358*********899063</td>\n",
       "      <td>A Google user</td>\n",
       "      <td>1.0</td>\n",
       "      <td>2013-06-09 10:19:39</td>\n",
       "      <td>0</td>\n",
       "    </tr>\n",
       "    <tr>\n",
       "      <th>3</th>\n",
       "      <td>3</td>\n",
       "      <td>Thanks lazada for this app!!</td>\n",
       "      <td>5</td>\n",
       "      <td>108006*********600292</td>\n",
       "      <td>A Google user</td>\n",
       "      <td>1.0</td>\n",
       "      <td>2013-06-10 02:24:14</td>\n",
       "      <td>0</td>\n",
       "    </tr>\n",
       "    <tr>\n",
       "      <th>4</th>\n",
       "      <td>4</td>\n",
       "      <td>Good app ;)</td>\n",
       "      <td>5</td>\n",
       "      <td>110676*********237626</td>\n",
       "      <td>A Google user</td>\n",
       "      <td>1.0</td>\n",
       "      <td>2013-06-10 02:35:53</td>\n",
       "      <td>0</td>\n",
       "    </tr>\n",
       "  </tbody>\n",
       "</table>\n",
       "</div>"
      ],
      "text/plain": [
       "   id                                        review_text  review_rating  \\\n",
       "0   0  This app is a big step in right direction - gr...              5   \n",
       "1   1  This is what I have been looking for. Now I ca...              5   \n",
       "2   2  Its a great way of shopping online. But please...              1   \n",
       "3   3                       Thanks lazada for this app!!              5   \n",
       "4   4                                        Good app ;)              5   \n",
       "\n",
       "               author_id    author_name author_app_version  \\\n",
       "0  109329*********902682  A Google user                1.0   \n",
       "1  109886*********190000  A Google user                1.0   \n",
       "2  114358*********899063  A Google user                1.0   \n",
       "3  108006*********600292  A Google user                1.0   \n",
       "4  110676*********237626  A Google user                1.0   \n",
       "\n",
       "      review_datetime  review_likes  \n",
       "0 2013-06-09 08:34:37             2  \n",
       "1 2013-06-09 09:29:25             0  \n",
       "2 2013-06-09 10:19:39             0  \n",
       "3 2013-06-10 02:24:14             0  \n",
       "4 2013-06-10 02:35:53             0  "
      ]
     },
     "execution_count": 4,
     "metadata": {},
     "output_type": "execute_result"
    }
   ],
   "source": [
    "# Rename columns for readability\n",
    "df = df.rename(columns = {'Unnamed: 0' : 'id', 'review_datetime_utc' : 'review_datetime'})\n",
    "df.head(5)"
   ]
  },
  {
   "cell_type": "code",
   "execution_count": 5,
   "metadata": {},
   "outputs": [
    {
     "data": {
      "text/plain": [
       "(775323, 7)"
      ]
     },
     "execution_count": 5,
     "metadata": {},
     "output_type": "execute_result"
    }
   ],
   "source": [
    "# Drop unnecessary columns for the sentiment analysis\n",
    "df = df.drop(columns = ['author_id'])\n",
    "df.shape"
   ]
  },
  {
   "cell_type": "code",
   "execution_count": 6,
   "metadata": {},
   "outputs": [
    {
     "data": {
      "image/png": "[encoded data removed]",
      "text/plain": [
       "<Figure size 800x500 with 1 Axes>"
      ]
     },
     "metadata": {},
     "output_type": "display_data"
    }
   ],
   "source": [
    "# Simple EDA to understand our general sentiment by ratings\n",
    "ax = df['review_rating'].value_counts().sort_index() \\\n",
    "    .plot(kind = 'bar',\n",
    "          title = 'Count of Reviews by Ratings',\n",
    "          figsize = (8,5))\n",
    "ax.set_xlabel('Ratings')\n",
    "ax.set_ylabel('Count')\n",
    "plt.show() # Dataset strongly skewed towards positive reviews"
   ]
  },
  {
   "cell_type": "code",
   "execution_count": 7,
   "metadata": {},
   "outputs": [],
   "source": [
    "from nltk.sentiment import SentimentIntensityAnalyzer\n",
    "\n",
    "sia = SentimentIntensityAnalyzer()"
   ]
  },
  {
   "cell_type": "code",
   "execution_count": null,
   "metadata": {},
   "outputs": [],
   "source": [
    "# Run polarity score on review text\n",
    "res = {}\n",
    "for i, row in df.iterrows():\n",
    "    txt = str(row['review_text'])\n",
    "    id = row['id']\n",
    "    res[id] = sia.polarity_scores(txt) "
   ]
  },
  {
   "cell_type": "code",
   "execution_count": 21,
   "metadata": {},
   "outputs": [
    {
     "data": {
      "text/html": [
       "<div>\n",
       "<style scoped>\n",
       "    .dataframe tbody tr th:only-of-type {\n",
       "        vertical-align: middle;\n",
       "    }\n",
       "\n",
       "    .dataframe tbody tr th {\n",
       "        vertical-align: top;\n",
       "    }\n",
       "\n",
       "    .dataframe thead th {\n",
       "        text-align: right;\n",
       "    }\n",
       "</style>\n",
       "<table border=\"1\" class=\"dataframe\">\n",
       "  <thead>\n",
       "    <tr style=\"text-align: right;\">\n",
       "      <th></th>\n",
       "      <th>neg</th>\n",
       "      <th>neu</th>\n",
       "      <th>pos</th>\n",
       "      <th>compound</th>\n",
       "    </tr>\n",
       "  </thead>\n",
       "  <tbody>\n",
       "    <tr>\n",
       "      <th>0</th>\n",
       "      <td>0.000</td>\n",
       "      <td>0.722</td>\n",
       "      <td>0.278</td>\n",
       "      <td>0.9548</td>\n",
       "    </tr>\n",
       "    <tr>\n",
       "      <th>1</th>\n",
       "      <td>0.000</td>\n",
       "      <td>0.880</td>\n",
       "      <td>0.120</td>\n",
       "      <td>0.5079</td>\n",
       "    </tr>\n",
       "    <tr>\n",
       "      <th>2</th>\n",
       "      <td>0.055</td>\n",
       "      <td>0.647</td>\n",
       "      <td>0.298</td>\n",
       "      <td>0.7992</td>\n",
       "    </tr>\n",
       "    <tr>\n",
       "      <th>3</th>\n",
       "      <td>0.000</td>\n",
       "      <td>0.534</td>\n",
       "      <td>0.466</td>\n",
       "      <td>0.5399</td>\n",
       "    </tr>\n",
       "    <tr>\n",
       "      <th>4</th>\n",
       "      <td>0.000</td>\n",
       "      <td>0.172</td>\n",
       "      <td>0.828</td>\n",
       "      <td>0.5859</td>\n",
       "    </tr>\n",
       "    <tr>\n",
       "      <th>...</th>\n",
       "      <td>...</td>\n",
       "      <td>...</td>\n",
       "      <td>...</td>\n",
       "      <td>...</td>\n",
       "    </tr>\n",
       "    <tr>\n",
       "      <th>775318</th>\n",
       "      <td>0.000</td>\n",
       "      <td>0.000</td>\n",
       "      <td>1.000</td>\n",
       "      <td>0.4215</td>\n",
       "    </tr>\n",
       "    <tr>\n",
       "      <th>775319</th>\n",
       "      <td>0.000</td>\n",
       "      <td>0.000</td>\n",
       "      <td>1.000</td>\n",
       "      <td>0.4215</td>\n",
       "    </tr>\n",
       "    <tr>\n",
       "      <th>775320</th>\n",
       "      <td>0.000</td>\n",
       "      <td>0.128</td>\n",
       "      <td>0.872</td>\n",
       "      <td>0.7783</td>\n",
       "    </tr>\n",
       "    <tr>\n",
       "      <th>775321</th>\n",
       "      <td>0.000</td>\n",
       "      <td>0.821</td>\n",
       "      <td>0.179</td>\n",
       "      <td>0.7438</td>\n",
       "    </tr>\n",
       "    <tr>\n",
       "      <th>775322</th>\n",
       "      <td>0.000</td>\n",
       "      <td>0.000</td>\n",
       "      <td>1.000</td>\n",
       "      <td>0.4404</td>\n",
       "    </tr>\n",
       "  </tbody>\n",
       "</table>\n",
       "<p>775323 rows × 4 columns</p>\n",
       "</div>"
      ],
      "text/plain": [
       "          neg    neu    pos  compound\n",
       "0       0.000  0.722  0.278    0.9548\n",
       "1       0.000  0.880  0.120    0.5079\n",
       "2       0.055  0.647  0.298    0.7992\n",
       "3       0.000  0.534  0.466    0.5399\n",
       "4       0.000  0.172  0.828    0.5859\n",
       "...       ...    ...    ...       ...\n",
       "775318  0.000  0.000  1.000    0.4215\n",
       "775319  0.000  0.000  1.000    0.4215\n",
       "775320  0.000  0.128  0.872    0.7783\n",
       "775321  0.000  0.821  0.179    0.7438\n",
       "775322  0.000  0.000  1.000    0.4404\n",
       "\n",
       "[775323 rows x 4 columns]"
      ]
     },
     "execution_count": 21,
     "metadata": {},
     "output_type": "execute_result"
    }
   ],
   "source": [
    "vader = pd.DataFrame(res).T\n",
    "vader"
   ]
  },
  {
   "cell_type": "code",
   "execution_count": 22,
   "metadata": {},
   "outputs": [
    {
     "name": "stdout",
     "output_type": "stream",
     "text": [
      "            id    neg    neu    pos  compound\n",
      "0            0  0.000  0.722  0.278    0.9548\n",
      "1            1  0.000  0.880  0.120    0.5079\n",
      "2            2  0.055  0.647  0.298    0.7992\n",
      "3            3  0.000  0.534  0.466    0.5399\n",
      "4            4  0.000  0.172  0.828    0.5859\n",
      "...        ...    ...    ...    ...       ...\n",
      "775318  775318  0.000  0.000  1.000    0.4215\n",
      "775319  775319  0.000  0.000  1.000    0.4215\n",
      "775320  775320  0.000  0.128  0.872    0.7783\n",
      "775321  775321  0.000  0.821  0.179    0.7438\n",
      "775322  775322  0.000  0.000  1.000    0.4404\n",
      "\n",
      "[775323 rows x 5 columns]\n"
     ]
    }
   ],
   "source": [
    "vader = vader.reset_index().rename(columns = {'index' : 'id'})\n",
    "print(vader)"
   ]
  },
  {
   "cell_type": "code",
   "execution_count": 25,
   "metadata": {},
   "outputs": [
    {
     "data": {
      "text/html": [
       "<div>\n",
       "<style scoped>\n",
       "    .dataframe tbody tr th:only-of-type {\n",
       "        vertical-align: middle;\n",
       "    }\n",
       "\n",
       "    .dataframe tbody tr th {\n",
       "        vertical-align: top;\n",
       "    }\n",
       "\n",
       "    .dataframe thead th {\n",
       "        text-align: right;\n",
       "    }\n",
       "</style>\n",
       "<table border=\"1\" class=\"dataframe\">\n",
       "  <thead>\n",
       "    <tr style=\"text-align: right;\">\n",
       "      <th></th>\n",
       "      <th>id</th>\n",
       "      <th>neg</th>\n",
       "      <th>neu</th>\n",
       "      <th>pos</th>\n",
       "      <th>compound</th>\n",
       "      <th>review_text</th>\n",
       "      <th>review_rating</th>\n",
       "      <th>author_name</th>\n",
       "      <th>author_app_version</th>\n",
       "      <th>review_datetime</th>\n",
       "      <th>review_likes</th>\n",
       "    </tr>\n",
       "  </thead>\n",
       "  <tbody>\n",
       "    <tr>\n",
       "      <th>0</th>\n",
       "      <td>0</td>\n",
       "      <td>0.000</td>\n",
       "      <td>0.722</td>\n",
       "      <td>0.278</td>\n",
       "      <td>0.9548</td>\n",
       "      <td>This app is a big step in right direction - gr...</td>\n",
       "      <td>5</td>\n",
       "      <td>A Google user</td>\n",
       "      <td>1.0</td>\n",
       "      <td>2013-06-09 08:34:37</td>\n",
       "      <td>2</td>\n",
       "    </tr>\n",
       "    <tr>\n",
       "      <th>1</th>\n",
       "      <td>1</td>\n",
       "      <td>0.000</td>\n",
       "      <td>0.880</td>\n",
       "      <td>0.120</td>\n",
       "      <td>0.5079</td>\n",
       "      <td>This is what I have been looking for. Now I ca...</td>\n",
       "      <td>5</td>\n",
       "      <td>A Google user</td>\n",
       "      <td>1.0</td>\n",
       "      <td>2013-06-09 09:29:25</td>\n",
       "      <td>0</td>\n",
       "    </tr>\n",
       "    <tr>\n",
       "      <th>2</th>\n",
       "      <td>2</td>\n",
       "      <td>0.055</td>\n",
       "      <td>0.647</td>\n",
       "      <td>0.298</td>\n",
       "      <td>0.7992</td>\n",
       "      <td>Its a great way of shopping online. But please...</td>\n",
       "      <td>1</td>\n",
       "      <td>A Google user</td>\n",
       "      <td>1.0</td>\n",
       "      <td>2013-06-09 10:19:39</td>\n",
       "      <td>0</td>\n",
       "    </tr>\n",
       "    <tr>\n",
       "      <th>3</th>\n",
       "      <td>3</td>\n",
       "      <td>0.000</td>\n",
       "      <td>0.534</td>\n",
       "      <td>0.466</td>\n",
       "      <td>0.5399</td>\n",
       "      <td>Thanks lazada for this app!!</td>\n",
       "      <td>5</td>\n",
       "      <td>A Google user</td>\n",
       "      <td>1.0</td>\n",
       "      <td>2013-06-10 02:24:14</td>\n",
       "      <td>0</td>\n",
       "    </tr>\n",
       "    <tr>\n",
       "      <th>4</th>\n",
       "      <td>4</td>\n",
       "      <td>0.000</td>\n",
       "      <td>0.172</td>\n",
       "      <td>0.828</td>\n",
       "      <td>0.5859</td>\n",
       "      <td>Good app ;)</td>\n",
       "      <td>5</td>\n",
       "      <td>A Google user</td>\n",
       "      <td>1.0</td>\n",
       "      <td>2013-06-10 02:35:53</td>\n",
       "      <td>0</td>\n",
       "    </tr>\n",
       "    <tr>\n",
       "      <th>5</th>\n",
       "      <td>5</td>\n",
       "      <td>0.000</td>\n",
       "      <td>0.775</td>\n",
       "      <td>0.225</td>\n",
       "      <td>0.4927</td>\n",
       "      <td>Now I can shopping at everywhere with this app...</td>\n",
       "      <td>5</td>\n",
       "      <td>A Google user</td>\n",
       "      <td>1.0</td>\n",
       "      <td>2013-06-10 04:00:38</td>\n",
       "      <td>0</td>\n",
       "    </tr>\n",
       "    <tr>\n",
       "      <th>6</th>\n",
       "      <td>6</td>\n",
       "      <td>0.000</td>\n",
       "      <td>1.000</td>\n",
       "      <td>0.000</td>\n",
       "      <td>0.0000</td>\n",
       "      <td>Mình cài app này rùi, get voucher code lun rùi...</td>\n",
       "      <td>5</td>\n",
       "      <td>A Google user</td>\n",
       "      <td>1.0</td>\n",
       "      <td>2013-06-10 04:55:24</td>\n",
       "      <td>0</td>\n",
       "    </tr>\n",
       "    <tr>\n",
       "      <th>7</th>\n",
       "      <td>7</td>\n",
       "      <td>0.000</td>\n",
       "      <td>1.000</td>\n",
       "      <td>0.000</td>\n",
       "      <td>0.0000</td>\n",
       "      <td>Found this when I wanted to see product review...</td>\n",
       "      <td>5</td>\n",
       "      <td>A Google user</td>\n",
       "      <td>1.0</td>\n",
       "      <td>2013-06-10 05:53:40</td>\n",
       "      <td>0</td>\n",
       "    </tr>\n",
       "    <tr>\n",
       "      <th>8</th>\n",
       "      <td>8</td>\n",
       "      <td>0.062</td>\n",
       "      <td>0.520</td>\n",
       "      <td>0.418</td>\n",
       "      <td>0.9706</td>\n",
       "      <td>Very useful for those who want to shop right o...</td>\n",
       "      <td>5</td>\n",
       "      <td>A Google user</td>\n",
       "      <td>1.0</td>\n",
       "      <td>2013-06-10 06:26:37</td>\n",
       "      <td>7</td>\n",
       "    </tr>\n",
       "    <tr>\n",
       "      <th>9</th>\n",
       "      <td>9</td>\n",
       "      <td>0.000</td>\n",
       "      <td>1.000</td>\n",
       "      <td>0.000</td>\n",
       "      <td>0.0000</td>\n",
       "      <td>Keren udah ada aplikasi android nya!</td>\n",
       "      <td>5</td>\n",
       "      <td>A Google user</td>\n",
       "      <td>1.0</td>\n",
       "      <td>2013-06-10 06:54:43</td>\n",
       "      <td>0</td>\n",
       "    </tr>\n",
       "  </tbody>\n",
       "</table>\n",
       "</div>"
      ],
      "text/plain": [
       "   id    neg    neu    pos  compound  \\\n",
       "0   0  0.000  0.722  0.278    0.9548   \n",
       "1   1  0.000  0.880  0.120    0.5079   \n",
       "2   2  0.055  0.647  0.298    0.7992   \n",
       "3   3  0.000  0.534  0.466    0.5399   \n",
       "4   4  0.000  0.172  0.828    0.5859   \n",
       "5   5  0.000  0.775  0.225    0.4927   \n",
       "6   6  0.000  1.000  0.000    0.0000   \n",
       "7   7  0.000  1.000  0.000    0.0000   \n",
       "8   8  0.062  0.520  0.418    0.9706   \n",
       "9   9  0.000  1.000  0.000    0.0000   \n",
       "\n",
       "                                         review_text  review_rating  \\\n",
       "0  This app is a big step in right direction - gr...              5   \n",
       "1  This is what I have been looking for. Now I ca...              5   \n",
       "2  Its a great way of shopping online. But please...              1   \n",
       "3                       Thanks lazada for this app!!              5   \n",
       "4                                        Good app ;)              5   \n",
       "5  Now I can shopping at everywhere with this app...              5   \n",
       "6  Mình cài app này rùi, get voucher code lun rùi...              5   \n",
       "7  Found this when I wanted to see product review...              5   \n",
       "8  Very useful for those who want to shop right o...              5   \n",
       "9               Keren udah ada aplikasi android nya!              5   \n",
       "\n",
       "     author_name author_app_version     review_datetime  review_likes  \n",
       "0  A Google user                1.0 2013-06-09 08:34:37             2  \n",
       "1  A Google user                1.0 2013-06-09 09:29:25             0  \n",
       "2  A Google user                1.0 2013-06-09 10:19:39             0  \n",
       "3  A Google user                1.0 2013-06-10 02:24:14             0  \n",
       "4  A Google user                1.0 2013-06-10 02:35:53             0  \n",
       "5  A Google user                1.0 2013-06-10 04:00:38             0  \n",
       "6  A Google user                1.0 2013-06-10 04:55:24             0  \n",
       "7  A Google user                1.0 2013-06-10 05:53:40             0  \n",
       "8  A Google user                1.0 2013-06-10 06:26:37             7  \n",
       "9  A Google user                1.0 2013-06-10 06:54:43             0  "
      ]
     },
     "execution_count": 25,
     "metadata": {},
     "output_type": "execute_result"
    }
   ],
   "source": [
    "vaders = vader.merge(df, how = 'left', on = 'id')\n",
    "vaders.head(10)"
   ]
  },
  {
   "cell_type": "code",
   "execution_count": 41,
   "metadata": {},
   "outputs": [
    {
     "data": {
      "image/png": "[encoded data removed]",
      "text/plain": [
       "<Figure size 640x480 with 1 Axes>"
      ]
     },
     "metadata": {},
     "output_type": "display_data"
    }
   ],
   "source": [
    "sns.barplot(data = vaders, x = 'review_rating', y = 'compound')\n",
    "plt.show()"
   ]
  },
  {
   "cell_type": "code",
   "execution_count": 43,
   "metadata": {},
   "outputs": [
    {
     "data": {
      "image/png": "[encoded data removed]",
      "text/plain": [
       "<Figure size 640x480 with 1 Axes>"
      ]
     },
     "metadata": {},
     "output_type": "display_data"
    }
   ],
   "source": [
    "vaders_rm_amb = vaders[~(vaders['compound'] == 0.0)]\n",
    "sns.barplot(data = vaders_rm_amb, x = 'review_rating', y = 'compound')\n",
    "plt.show() # New plot without ambigious compound score of 0.0; improved compound scores, high ratings corresponds to higher higher compound score and vice versa "
   ]
  },
  {
   "cell_type": "code",
   "execution_count": 42,
   "metadata": {},
   "outputs": [
    {
     "data": {
      "image/png": "[encoded data removed]",
      "text/plain": [
       "<Figure size 1200x500 with 3 Axes>"
      ]
     },
     "metadata": {},
     "output_type": "display_data"
    },
    {
     "data": {
      "text/plain": [
       "' Fairly accurate sentiment analysis, with strong negative correlating to a 1 star review and a strong positive for 5 star reviews.\\nHowever, neutral reviews tended to have a stronger neutral for lower ratings than higher ratings, due to language differences of ASEAN region.\\n'"
      ]
     },
     "execution_count": 42,
     "metadata": {},
     "output_type": "execute_result"
    }
   ],
   "source": [
    "fig, axs = plt.subplots(1, 3, figsize = (12, 5))\n",
    "sns.barplot(data = vaders, x = 'review_rating', y = 'neg', ax = axs[0])\n",
    "sns.barplot(data = vaders, x = 'review_rating', y = 'neu', ax = axs[1])\n",
    "sns.barplot(data = vaders, x = 'review_rating', y = 'pos', ax = axs[2])\n",
    "axs[0].set_title('Negative')\n",
    "axs[1].set_title('Neutral')\n",
    "axs[2].set_title('Positive')\n",
    "plt.show()\n",
    "\n",
    "''' \n",
    "Fairly accurate sentiment analysis, with strong negative correlating to a 1 star review and a strong positive for 5 star reviews.\n",
    "However, neutral reviews tended to have a stronger neutral for lower ratings than higher ratings, due to language differences of ASEAN region.\n",
    "\n",
    "Limitations\n",
    "Ambiguity in neutral text: different languages of ASEAN region\n",
    "'''"
   ]
  },
  {
   "cell_type": "code",
   "execution_count": 44,
   "metadata": {},
   "outputs": [
    {
     "data": {
      "image/png": "[encoded data removed]",
      "text/plain": [
       "<Figure size 1200x500 with 3 Axes>"
      ]
     },
     "metadata": {},
     "output_type": "display_data"
    }
   ],
   "source": [
    "fig, axs = plt.subplots(1, 3, figsize = (12, 5))\n",
    "sns.barplot(data = vaders_rm_amb, x = 'review_rating', y = 'neg', ax = axs[0])\n",
    "sns.barplot(data = vaders_rm_amb, x = 'review_rating', y = 'neu', ax = axs[1])\n",
    "sns.barplot(data = vaders_rm_amb, x = 'review_rating', y = 'pos', ax = axs[2])\n",
    "axs[0].set_title('Negative')\n",
    "axs[1].set_title('Neutral')\n",
    "axs[2].set_title('Positive')\n",
    "plt.show()\n",
    "\n",
    "'''\n",
    "Correcting for ambiguity as unregistered languages had high neutral scores and low compound scores which brought down the averages of vaders scores\n",
    "'''"
   ]
  }
 ],
 "metadata": {
  "kernelspec": {
   "display_name": "Python 3",
   "language": "python",
   "name": "python3"
  },
  "language_info": {
   "codemirror_mode": {
    "name": "ipython",
    "version": 3
   },
   "file_extension": ".py",
   "mimetype": "text/x-python",
   "name": "python",
   "nbconvert_exporter": "python",
   "pygments_lexer": "ipython3",
   "version": "3.11.4"
  }
 },
 "nbformat": 4,
 "nbformat_minor": 2
}
